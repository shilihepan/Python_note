{
 "cells": [
  {
   "cell_type": "markdown",
   "metadata": {},
   "source": [
    "# 三大结构\n",
    " - 顺序\n",
    " - 分支\n",
    " - 循环\n"
   ]
  },
  {
   "cell_type": "markdown",
   "metadata": {},
   "source": [
    "# 分支\n",
    " - 分支的基本语法\n",
    " \n",
    "       if 条件表达式：\n",
    "          语句1\n",
    "          语句2\n",
    "          语句3\n",
    "      ......\n",
    " - 条件表达式就是计算结果必须为布尔值的表达式\n",
    " - 表达式后的冒号不能少\n",
    " - 注意if后面出现的语句，如果属于if语句块，则必须同一个缩进等级\n",
    " - 条件表达式结果为True执行if后面的缩进的语句块"
   ]
  },
  {
   "cell_type": "code",
   "execution_count": 1,
   "metadata": {},
   "outputs": [
    {
     "name": "stdout",
     "output_type": "stream",
     "text": [
      "去叫家长，孩纸\n",
      "我们不带你玩\n",
      "滚\n"
     ]
    }
   ],
   "source": [
    "# if语句联系\n",
    "# 如果age小鱼十八岁，则打印信息“去叫家长”\n",
    "age = 17\n",
    "if age < 18:\n",
    "    print(\"去叫家长，孩纸\")\n",
    "    print(\"我们不带你玩\")\n",
    "    print(\"滚\")\n",
    "    "
   ]
  },
  {
   "cell_type": "code",
   "execution_count": 2,
   "metadata": {},
   "outputs": [
    {
     "name": "stdout",
     "output_type": "stream",
     "text": [
      "开始上车喽，老司机们\n"
     ]
    }
   ],
   "source": [
    "age = 19\n",
    "if age < 18:\n",
    "    print(\"去叫家长，孩纸\")\n",
    "    print(\"我们不带你玩\")\n",
    "    print(\"滚\")\n",
    "    \n",
    "print(\"开始上车喽，老司机们\")"
   ]
  },
  {
   "cell_type": "code",
   "execution_count": 4,
   "metadata": {},
   "outputs": [
    {
     "name": "stdout",
     "output_type": "stream",
     "text": [
      "今天学习for循环\n",
      "开始讲for循环了\n"
     ]
    }
   ],
   "source": [
    "print(\"今天学习for循环\")\n",
    "gender = \"男\"\n",
    "if gender == \"famale\":\n",
    "    print(\"来，叔叔给你糖吃\")\n",
    "print(\"开始讲for循环了\")"
   ]
  },
  {
   "cell_type": "markdown",
   "metadata": {},
   "source": [
    "### 双向分支\n",
    " - if...else...语句\n",
    "        \n",
    "        if 条件表达式：\n",
    "            语句1\n",
    "            语句2\n",
    "            ...\n",
    "        else:\n",
    "            语句1\n",
    "            语句2\n",
    "            ...\n",
    " - 双向分支有两个分支，当程序执行到if...else...语句的时候，一定会执行if或else中的一个，也仅执行一个\n",
    " - 缩进问题，if和else一个层级，其余语句一个层级"
   ]
  },
  {
   "cell_type": "code",
   "execution_count": 5,
   "metadata": {},
   "outputs": [
    {
     "name": "stdout",
     "output_type": "stream",
     "text": [
      "请输入性别:male\n",
      "你输入的性别是：male\n",
      "来，我们纪念一下今天吧，代码敲十遍\n",
      "开始上课喽\n"
     ]
    }
   ],
   "source": [
    "#input的作用是：\n",
    "#1.在屏幕上输出括号内的字符串\n",
    "#2.接受用户输入的内容并返回到程序\n",
    "#3.input返回的内容一定是字符串类型\n",
    "\n",
    "gender = input(\"请输入性别:\")\n",
    "print(\"你输入的性别是：{0}\".format(gender))\n",
    "\n",
    "if gender == \"male\":\n",
    "    print(\"来，我们纪念一下今天吧，代码敲十遍\")\n",
    "else:\n",
    "    print(\"发糖喽\")\n",
    "print(\"开始上课喽\")"
   ]
  },
  {
   "cell_type": "code",
   "execution_count": 10,
   "metadata": {},
   "outputs": [
    {
     "name": "stdout",
     "output_type": "stream",
     "text": [
      "请输入学生成绩60\n",
      "D\n"
     ]
    }
   ],
   "source": [
    "# input 输入的一定是字符串\n",
    "score = input(\"请输入学生成绩\")\n",
    "# 需要把str转换为int\n",
    "score = int(score)\n",
    "\n",
    "if score >= 90:\n",
    "    print(\"A\")\n",
    "elif score >= 80:\n",
    "    print(\"B\")\n",
    "elif score >= 70:\n",
    "    print(\"C\")\n",
    "elif score >= 60:\n",
    "    print(\"D\")\n",
    "else:\n",
    "    print(\"E\")"
   ]
  },
  {
   "cell_type": "markdown",
   "metadata": {},
   "source": [
    "## 多路分支\n",
    "## 冷读术\n",
    " - 很多分支的情况，简称多路分支\n",
    "      \n",
    "         if 条件表达式:\n",
    "             语句1\n",
    "             ...\n",
    "         elif 条件表达式:\n",
    "             语句1\n",
    "             ...\n",
    "         elif 条件表达式:\n",
    "             语句1\n",
    "             ...\n",
    "         else:\n",
    "             语句1\n",
    "             ...\n",
    " - elif 可以有很多\n",
    " "
   ]
  },
  {
   "cell_type": "markdown",
   "metadata": {},
   "source": [
    "## if语句其他：\n",
    " - if语句可以嵌套使用，但不推荐\n",
    " - python没有switch-case语句"
   ]
  },
  {
   "cell_type": "markdown",
   "metadata": {},
   "source": [
    "# 循环\n",
    "- 重复执行某些固定动作或者处理基本固定的事物\n",
    "- 分类\n",
    "    - for循环\n",
    "    - while循环\n",
    "## for循环\n",
    " - for循环\n",
    "     \n",
    "         for 变量 in 序列:\n",
    "             语句1\n",
    "             语句2\n",
    "             ...\n",
    "             "
   ]
  },
  {
   "cell_type": "code",
   "execution_count": 11,
   "metadata": {},
   "outputs": [
    {
     "name": "stdout",
     "output_type": "stream",
     "text": [
      "zhang\n",
      "li\n",
      "wang\n"
     ]
    }
   ],
   "source": [
    "# 打印学生列表姓名\n",
    "for name in ['zhang','li','wang']:\n",
    "    print(name)\n"
   ]
  },
  {
   "cell_type": "code",
   "execution_count": 13,
   "metadata": {},
   "outputs": [
    {
     "name": "stdout",
     "output_type": "stream",
     "text": [
      "zhang\n",
      "不约\n",
      "li\n",
      "不约\n",
      "wang\n",
      "不约\n",
      "jingjing\n",
      "我想jingjing\n"
     ]
    }
   ],
   "source": [
    "# 如果是静静，那肯定是我想的\n",
    "# 如果是别的，那肯定是拒绝的\n",
    "for name in ['zhang','li','wang','jingjing']:\n",
    "    print(name)\n",
    "    if name == \"jingjing\":\n",
    "        print(\"我想{0}\".format(name))\n",
    "    else:\n",
    "        print(\"不约\")"
   ]
  },
  {
   "cell_type": "markdown",
   "metadata": {},
   "source": [
    "## range介绍\n",
    " - 生成一个数字序列\n"
   ]
  },
  {
   "cell_type": "code",
   "execution_count": 19,
   "metadata": {},
   "outputs": [
    {
     "name": "stdout",
     "output_type": "stream",
     "text": [
      "1\n",
      "2\n",
      "3\n",
      "4\n",
      "5\n",
      "6\n",
      "7\n",
      "8\n",
      "9\n",
      "10\n"
     ]
    }
   ],
   "source": [
    "# 打印从1-10的数字\n",
    "\n",
    "for i in range(1,11):  # 注意：一般在python中，如果由表示数字范围的两个数，一般是左闭右开；但是randint是特例，左右都闭。\n",
    "    print(i)\n",
    "\n",
    "# range函数在python2和python3中有很大的区别"
   ]
  },
  {
   "cell_type": "markdown",
   "metadata": {},
   "source": [
    "## for-else语句\n",
    " - 当for循环结束的时候，就会执行else语句\n",
    " - else语句是可选语句"
   ]
  },
  {
   "cell_type": "code",
   "execution_count": 20,
   "metadata": {},
   "outputs": [
    {
     "name": "stdout",
     "output_type": "stream",
     "text": [
      "zhang\n",
      "不约\n",
      "li\n",
      "不约\n",
      "wang\n",
      "不约\n",
      "jingjing\n",
      "我想jingjing\n",
      "别的都不是我的学生，不会再爱了\n"
     ]
    }
   ],
   "source": [
    "# for-else语句\n",
    "# 打印列表中的同学\n",
    "# 如果没有在列表中，或者列表结束了，我们需要打印提示语句，表好不爱了\n",
    "\n",
    "for name in ['zhang','li','wang','jingjing']:\n",
    "    print(name)\n",
    "    if name == \"jingjing\":\n",
    "        print(\"我想{0}\".format(name))\n",
    "    else:\n",
    "        print(\"同学不约，请自重\")\n",
    "else:\n",
    "    print(\"别的都不是我的学生，不会再爱了\")"
   ]
  },
  {
   "cell_type": "markdown",
   "metadata": {},
   "source": [
    "## 循环之break，continue，pass\n",
    " - break：无条件结束整个循环，简称循环猝死\n",
    " - continue：无条件结束本次循环，从新进入下一轮循环\n",
    " - pass：表示略过，占位，没有跳过功能"
   ]
  },
  {
   "cell_type": "code",
   "execution_count": 26,
   "metadata": {},
   "outputs": [
    {
     "name": "stdout",
     "output_type": "stream",
     "text": [
      "我找到了\n"
     ]
    }
   ],
   "source": [
    "# 在1-10的数字中，寻找数字7，一旦找到，打印出来，其余则什么都不做\n",
    "# for 循环中的变量表示：一般用i，k，m，n，或者用indx，idx，item\n",
    "# 在python中，如果循环变量名称不重要，可以用下划线代替\n",
    "\n",
    "for i in range(1,11):\n",
    "    if i == 7:\n",
    "        print(\"我找到了\")\n",
    "        break\n",
    "    else:\n",
    "        pass\n",
    "    \n",
    "    "
   ]
  },
  {
   "cell_type": "code",
   "execution_count": 31,
   "metadata": {},
   "outputs": [
    {
     "name": "stdout",
     "output_type": "stream",
     "text": [
      "再找\n",
      "2是偶数\n",
      "再找\n",
      "4是偶数\n",
      "再找\n",
      "6是偶数\n",
      "再找\n",
      "8是偶数\n",
      "再找\n",
      "10是偶数\n"
     ]
    }
   ],
   "source": [
    "# 在1-10的数字中，寻找所有偶数,用contunue\n",
    "# for 循环中的变量表示：一般用i，k，m，n，或者用indx，idx，item\n",
    "# 在python中，如果循环变量名称不重要，可以用下划线代替\n",
    "\n",
    "for i in range(1,11):\n",
    "    if i%2 == 1:\n",
    "        print(\"再找\")\n",
    "        continue\n",
    "    else:\n",
    "        print(\"{0}是偶数\".format(i))"
   ]
  },
  {
   "cell_type": "code",
   "execution_count": null,
   "metadata": {
    "collapsed": true
   },
   "outputs": [],
   "source": []
  }
 ],
 "metadata": {
  "kernelspec": {
   "display_name": "Python 3",
   "language": "python",
   "name": "python3"
  },
  "language_info": {
   "codemirror_mode": {
    "name": "ipython",
    "version": 3
   },
   "file_extension": ".py",
   "mimetype": "text/x-python",
   "name": "python",
   "nbconvert_exporter": "python",
   "pygments_lexer": "ipython3",
   "version": "3.6.3"
  }
 },
 "nbformat": 4,
 "nbformat_minor": 2
}
