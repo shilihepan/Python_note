{
 "cells": [
  {
   "cell_type": "markdown",
   "metadata": {},
   "source": [
    "# 变量作用域\n",
    "- 变量由作用范围限制\n",
    "- 分类 按照作用域分类\n",
    "    - 全局变量（global）：在函数外部定义\n",
    "    - 局部变量（local）：在函数内部定义\n",
    "- 变量的作用范围：\n",
    "    - 全局变量：在整个全局范围都有效\n",
    "    - 全局变量在局部可以使用 （即函数内部可以访问函数外部定义的变量）\n",
    "    - 局部变量在局部范围可以使用\n",
    "    - 局部变量在全局范围无法使用\n",
    "- LEGB原则\n",
    "    - L（local）局部作用域\n",
    "    - E（Enclosing function locale）外部嵌套函数作用域\n",
    "    - G（Global module）函数定义所在模块作用域\n",
    "    - B（Buildin）python内置函数的作用域"
   ]
  },
  {
   "cell_type": "code",
   "execution_count": 3,
   "metadata": {},
   "outputs": [
    {
     "name": "stdout",
     "output_type": "stream",
     "text": [
      "100\n",
      "100\n",
      "I am in fun\n",
      "99\n"
     ]
    }
   ],
   "source": [
    "a1 =100\n",
    "\n",
    "def fun():\n",
    "    print(a1)\n",
    "    print(\"I am in fun\")\n",
    "    a2 = 99\n",
    "    \n",
    "    print(a2)\n",
    "\n",
    "print(a1)\n",
    "fun()"
   ]
  },
  {
   "cell_type": "markdown",
   "metadata": {},
   "source": [
    "## 提升局部变量为全局变量\n",
    "- 使用global\n",
    "- 案例如下"
   ]
  },
  {
   "cell_type": "code",
   "execution_count": 3,
   "metadata": {},
   "outputs": [
    {
     "name": "stdout",
     "output_type": "stream",
     "text": [
      "100\n",
      "I am in fun\n",
      "99\n",
      "100\n"
     ]
    }
   ],
   "source": [
    "\n",
    "def fun():\n",
    "    \n",
    "    global b1\n",
    "    b1 =100\n",
    "    print(b1)\n",
    "    print(\"I am in fun\")\n",
    "    b2 = 99\n",
    "    \n",
    "    print(b2)\n",
    "\n",
    "\n",
    "# print(b2)\n",
    "fun()  # 函数必须先执行了，里面的全局变量才会声明\n",
    "print(b1)"
   ]
  },
  {
   "cell_type": "markdown",
   "metadata": {},
   "source": [
    "# globals,locals函数\n",
    "- 可以通过globals和locals显示出局部变量和全局变量"
   ]
  },
  {
   "cell_type": "code",
   "execution_count": 17,
   "metadata": {},
   "outputs": [
    {
     "name": "stdout",
     "output_type": "stream",
     "text": [
      "locals={'e': 111, 'd': 200, 'c': 100}\n"
     ]
    }
   ],
   "source": [
    "# globals 和 locals\n",
    "# globals 和 locals是内置函数\n",
    "a = 1\n",
    "b = 2\n",
    "\n",
    "def fun(c,d):\n",
    "    e = 111\n",
    "    print(\"locals={0}\".format(locals()))\n",
    "#     print(\"globals={0}\".format(globals()))\n",
    "    \n",
    "fun(100,200)"
   ]
  },
  {
   "cell_type": "markdown",
   "metadata": {},
   "source": [
    "# eval（）函数\n",
    "- 把一个字符串当成一个表达式来执行，返回表达式执行后的结果\n",
    "- 语法：\n",
    "        \n",
    "        eval(string_code,globals=None,locals=None)\n",
    "\n",
    "# exec() 函数\n",
    "- 和eval（）功能类似，不返回结果"
   ]
  },
  {
   "cell_type": "code",
   "execution_count": 24,
   "metadata": {
    "scrolled": true
   },
   "outputs": [
    {
     "name": "stdout",
     "output_type": "stream",
     "text": [
      "300 300 None\n"
     ]
    },
    {
     "data": {
      "text/plain": [
       "int"
      ]
     },
     "execution_count": 24,
     "metadata": {},
     "output_type": "execute_result"
    }
   ],
   "source": [
    "x = 100\n",
    "y = 200\n",
    "# z = x + y\n",
    "z1 = x + y\n",
    "z2 = eval(\"x+y\")\n",
    "z3 = exec(\"x+y\")\n",
    "print(z1,z2,z3)\n",
    "type(z1)\n",
    "type(z2)"
   ]
  },
  {
   "cell_type": "markdown",
   "metadata": {},
   "source": [
    "# 递归函数\n",
    "- 函数直接或者间接调用自身\n",
    "- 优点：简洁，易理解\n",
    "- 缺点：对递归深度有限制，消耗资源大\n",
    "- python对递归深度有限制，超过限制报错\n",
    "- 在写递归程序的时候，一定注意结束条件"
   ]
  },
  {
   "cell_type": "code",
   "execution_count": 28,
   "metadata": {},
   "outputs": [],
   "source": [
    "# 递归调用深度限制代码\n",
    "\n",
    "x = 0\n",
    "def fun():\n",
    "    global x  # 使用全局变量要声明\n",
    "    x += 1\n",
    "    print(x)\n",
    "    # 调用自己\n",
    "    fun()\n",
    "\n",
    "    # 调用函数\n"
   ]
  },
  {
   "cell_type": "code",
   "execution_count": 7,
   "metadata": {},
   "outputs": [
    {
     "data": {
      "text/plain": [
       "13"
      ]
     },
     "execution_count": 7,
     "metadata": {},
     "output_type": "execute_result"
    }
   ],
   "source": [
    "# 斐波那契数列\n",
    "# 一列数字，第一个值是1，第二个也是1，从第三个开始，每个数字的值等于前两个数字的和\n",
    "# 1,1,2,3,5,8,13\n",
    "# f(1) = 1, f(2) = 1, f(3) = 2,f(n) = f(n-1) + f(n-2)\n",
    "\n",
    "def fib(n):\n",
    "    if n == 1 or n ==2:\n",
    "        return 1\n",
    "    else:\n",
    "        return fib(n-1) + fib(n-2)\n",
    "fib(7)"
   ]
  },
  {
   "cell_type": "markdown",
   "metadata": {},
   "source": [
    "# 变量类型\n",
    "- list \n",
    "- set\n",
    "- dict\n",
    "- tuple\n",
    "## list(列表)\n",
    "- 创建列表\n",
    "    - 空列表"
   ]
  },
  {
   "cell_type": "code",
   "execution_count": 9,
   "metadata": {},
   "outputs": [
    {
     "name": "stdout",
     "output_type": "stream",
     "text": [
      "<class 'list'>\n"
     ]
    }
   ],
   "source": [
    "# 创建空列表\n",
    "li = []\n",
    "print(type(li))\n",
    "\n",
    "# 创建带值的列表\n",
    "l2 = [100]"
   ]
  },
  {
   "cell_type": "markdown",
   "metadata": {},
   "source": [
    "# 列表的常用操作\n",
    "- 索引\n",
    "    - 使用下标\n",
    "- 切片\n",
    "    - 下标值可以为空，如果不写，左边下标值默认为0，右边下标值为最大数加1，即表示截取到最后一个数据\n",
    "    - 切片操作是生成一个新的list"
   ]
  },
  {
   "cell_type": "code",
   "execution_count": 14,
   "metadata": {},
   "outputs": [
    {
     "name": "stdout",
     "output_type": "stream",
     "text": [
      "[2, 12, 4]\n",
      "[]\n",
      "[4, 4]\n",
      "[54, 4]\n"
     ]
    }
   ],
   "source": [
    "l = [2,12,4,4,54,7]\n",
    "print(l[:3])\n",
    "\n",
    "# 切片是从左到右取\n",
    "print(l[-2:-4])\n",
    "print(l[-4:-2])\n",
    "\n",
    "# 加了负步长就可以从右往左取\n",
    "print(l[-2:-4:-1])\n"
   ]
  }
 ],
 "metadata": {
  "kernelspec": {
   "display_name": "Python 3",
   "language": "python",
   "name": "python3"
  },
  "language_info": {
   "codemirror_mode": {
    "name": "ipython",
    "version": 3
   },
   "file_extension": ".py",
   "mimetype": "text/x-python",
   "name": "python",
   "nbconvert_exporter": "python",
   "pygments_lexer": "ipython3",
   "version": "3.6.3"
  }
 },
 "nbformat": 4,
 "nbformat_minor": 2
}
