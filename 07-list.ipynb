{
 "cells": [
  {
   "cell_type": "markdown",
   "metadata": {},
   "source": [
    "# 汉诺塔\n",
    "- 规则：\n",
    "    - 1、每次只能移动一个盒子。\n",
    "    - 2、任何一次移动，大盘子必须在下。\n",
    "- 方法：\n",
    "    - 1、n=1:A->C\n",
    "    - 2、n=2:\n",
    "             1.A->B\n",
    "             2.A->C\n",
    "             3.B->C\n",
    "    - 3、n=3:\n",
    "            1.把A上的两个盘子通过C移动到B，调用递归\n",
    "            2.把A上剩下的大盘子移动到C\n",
    "            3.把B上的两个盘子借助C移动到B上\n",
    "    - 4 n=n:\n",
    "            1.把A上的n-1个盘子借助C移动到B上\n",
    "            2.把A上的大盘子移动到C上\n",
    "            3.把B上的n-1个盘子，借助于A，移动到C上"
   ]
  },
  {
   "cell_type": "code",
   "execution_count": 9,
   "metadata": {},
   "outputs": [
    {
     "name": "stdout",
     "output_type": "stream",
     "text": [
      "a --> c\n",
      "a --> b\n",
      "c --> b\n",
      "a --> c\n",
      "b --> a\n",
      "b --> c\n",
      "a --> c\n"
     ]
    }
   ],
   "source": [
    "def hano(n,a,b,c):\n",
    "    '''\n",
    "    汉诺塔的递归实现\n",
    "    n：代表盘子数\n",
    "    a：代表第一个塔\n",
    "    b：代表第二个塔\n",
    "    c：代表第三个塔\n",
    "    '''\n",
    "    if n==1:\n",
    "        print(a,\"-->\",c)\n",
    "        return None\n",
    "    elif n==2:\n",
    "        print(a,\"-->\",b)\n",
    "        print(a,\"-->\",c)\n",
    "        print(b,\"-->\",c)\n",
    "        return None\n",
    "    else:\n",
    "        hano(n-1,a,c,b)\n",
    "        print(a,\"-->\",c)\n",
    "        hano(n-1,b,a,c)\n",
    "        return None\n",
    "hano(3,\"a\",\"b\",\"c\")"
   ]
  },
  {
   "cell_type": "markdown",
   "metadata": {},
   "source": [
    "# list\n",
    "- del 删除"
   ]
  },
  {
   "cell_type": "code",
   "execution_count": 13,
   "metadata": {},
   "outputs": [
    {
     "name": "stdout",
     "output_type": "stream",
     "text": [
      "140518512879944\n",
      "[1, 2, 4, 5, 6]\n",
      "140518512879944\n"
     ]
    }
   ],
   "source": [
    "# del 删除\n",
    "a = [1,2,3,4,5,6]\n",
    "print(id(a))\n",
    "del a[2]\n",
    "print(a)\n",
    "print(id(a))"
   ]
  },
  {
   "cell_type": "markdown",
   "metadata": {},
   "source": [
    "### list的运算\n"
   ]
  },
  {
   "cell_type": "code",
   "execution_count": 14,
   "metadata": {},
   "outputs": [
    {
     "name": "stdout",
     "output_type": "stream",
     "text": [
      "[1, 2, 3, 4, 5, 6]\n"
     ]
    }
   ],
   "source": [
    "a = [1,2,3]\n",
    "b = [4,5,6]\n",
    "c = a + b\n",
    "print(c)"
   ]
  },
  {
   "cell_type": "code",
   "execution_count": 15,
   "metadata": {},
   "outputs": [
    {
     "name": "stdout",
     "output_type": "stream",
     "text": [
      "[1, 2, 3, 1, 2, 3, 1, 2, 3]\n"
     ]
    }
   ],
   "source": [
    "# 列表与整数相乘，相当于把n个列表连在一起\n",
    "d = a * 3\n",
    "print(d)"
   ]
  },
  {
   "cell_type": "code",
   "execution_count": 17,
   "metadata": {},
   "outputs": [
    {
     "name": "stdout",
     "output_type": "stream",
     "text": [
      "True\n"
     ]
    }
   ],
   "source": [
    "# in 成员运算符\n",
    "e = 2\n",
    "f = e in a\n",
    "print(f)"
   ]
  },
  {
   "cell_type": "markdown",
   "metadata": {},
   "source": [
    "# 列表的遍历\n",
    "- for\n",
    "- while"
   ]
  },
  {
   "cell_type": "code",
   "execution_count": 2,
   "metadata": {},
   "outputs": [
    {
     "name": "stdout",
     "output_type": "stream",
     "text": [
      "1\n",
      "2\n",
      "3\n",
      "4\n",
      "5\n"
     ]
    }
   ],
   "source": [
    "# for in list\n",
    "a = [1,2,3,4,5]\n",
    "for i in a:\n",
    "    print(i)"
   ]
  },
  {
   "cell_type": "code",
   "execution_count": null,
   "metadata": {
    "collapsed": true
   },
   "outputs": [],
   "source": [
    "# java,c++写的python代码\n",
    "\n",
    "for i in range(0,len(a)):\n",
    "    print(a[i])\n",
    "    i += 1"
   ]
  },
  {
   "cell_type": "code",
   "execution_count": 1,
   "metadata": {},
   "outputs": [
    {
     "name": "stdout",
     "output_type": "stream",
     "text": [
      "1\n",
      "2\n",
      "3\n",
      "4\n",
      "5\n"
     ]
    }
   ],
   "source": [
    "# while in list\n",
    "# 一般不用while遍历list\n",
    "\n",
    "a = [1,2,3,4,5]\n",
    "length = len(a)\n",
    "indx = 0\n",
    "while indx < length:\n",
    "    print(a[indx])\n",
    "    indx += 1"
   ]
  },
  {
   "cell_type": "code",
   "execution_count": 5,
   "metadata": {},
   "outputs": [
    {
     "name": "stdout",
     "output_type": "stream",
     "text": [
      "one ... 1 ... eins\n",
      "two ... 2 ... zwei\n",
      "three ... 3 ... drei\n"
     ]
    }
   ],
   "source": [
    "# 双层list循环遍历\n",
    "\n",
    "a = [[\"one\",1,\"eins\"],[\"two\",2,\"zwei\"],[\"three\",3,\"drei\"]]\n",
    "\n",
    "for k,v,w in a:\n",
    "    print(k,\"...\",v,\"...\",w)"
   ]
  },
  {
   "cell_type": "markdown",
   "metadata": {
    "collapsed": true
   },
   "source": [
    "# 列表内涵：list content\n",
    "- 通过简单方法制作列表"
   ]
  },
  {
   "cell_type": "code",
   "execution_count": 6,
   "metadata": {},
   "outputs": [
    {
     "name": "stdout",
     "output_type": "stream",
     "text": [
      "['a', 'b', 'c']\n"
     ]
    }
   ],
   "source": [
    "# for 创建\n",
    "a =  ['a','b','c']\n",
    "# 用list a 创建一个list b\n",
    "b =  [i for i in a]\n",
    "print(b)"
   ]
  },
  {
   "cell_type": "code",
   "execution_count": 8,
   "metadata": {},
   "outputs": [
    {
     "name": "stdout",
     "output_type": "stream",
     "text": [
      "[10, 20, 30, 40, 50]\n"
     ]
    }
   ],
   "source": [
    "# 对a中所有元素乘以10，生成一个新list\n",
    "a =  [1,2,3,4,5]\n",
    "# 用list a 创建一个list b\n",
    "b =  [i*10 for i in a]\n",
    "print(b)"
   ]
  },
  {
   "cell_type": "code",
   "execution_count": 11,
   "metadata": {},
   "outputs": [
    {
     "name": "stdout",
     "output_type": "stream",
     "text": [
      "[2, 4, 6, 8, 10, 12, 14, 16, 18, 20, 22, 24, 26, 28, 30, 32, 34]\n"
     ]
    }
   ],
   "source": [
    "# 还可以过滤原来list中的内容放入新list\n",
    "# 比如原来list a，需要把所有a中的所有的偶数生成b\n",
    "a = [x for x in range(1,35)]\n",
    "b = [y for y in a if y % 2 == 0]\n",
    "print(b)"
   ]
  },
  {
   "cell_type": "code",
   "execution_count": 18,
   "metadata": {},
   "outputs": [
    {
     "name": "stdout",
     "output_type": "stream",
     "text": [
      "[1, 2, 3]\n",
      "[100, 200, 300]\n",
      "[101, 201, 301, 102, 202, 302, 103, 203, 303]\n",
      "101 201 301 102 202 302 103 203 303 \n",
      "[101, 201, 102, 202, 103, 203]\n"
     ]
    }
   ],
   "source": [
    "# 列表生成可以嵌套\n",
    "# 有两个list a、b\n",
    "\n",
    "a = [i for i in range(1,4)]\n",
    "print(a)\n",
    "\n",
    "b = [i for i in range(100,400) if i % 100 ==0]\n",
    "print(b)\n",
    "\n",
    "c = [ m+n for m in a for n in b]\n",
    "print(c)\n",
    "\n",
    "# 相同效果的代码\n",
    "\n",
    "for m in a:\n",
    "    for n in b:\n",
    "        print(m+n,end=\" \")\n",
    "print()\n",
    "\n",
    "# 嵌套list的生成也可使用if\n",
    "\n",
    "c = [m+n for m in a for n in b if m+n < 250]\n",
    "print(c)"
   ]
  },
  {
   "cell_type": "markdown",
   "metadata": {},
   "source": [
    "# 关于list的常用函数"
   ]
  },
  {
   "cell_type": "code",
   "execution_count": 22,
   "metadata": {},
   "outputs": [
    {
     "name": "stdout",
     "output_type": "stream",
     "text": [
      "99\n",
      "99\n",
      "python\n"
     ]
    }
   ],
   "source": [
    "# len:求list的长度\n",
    "a = [x for x in range(1,100)]\n",
    "print(len(a))\n",
    "\n",
    "# max:求list的最大值\n",
    "print(max(a))\n",
    "\n",
    "b = ['man','film','python']\n",
    "print(max(b))"
   ]
  },
  {
   "cell_type": "code",
   "execution_count": 24,
   "metadata": {},
   "outputs": [
    {
     "name": "stdout",
     "output_type": "stream",
     "text": [
      "[1, 2, 3]\n",
      "['i', ' ', 'l', 'o', 'v', 'e', ' ', 'j', 'i', 'n', 'g', 'j', 'i', 'n', 'g']\n"
     ]
    }
   ],
   "source": [
    "# list:转换为list   要求被转换的对象可迭代\n",
    "a = 1,2,3\n",
    "print(list(a))\n",
    "s = 'i love jingjing'\n",
    "print(list(s))"
   ]
  }
 ],
 "metadata": {
  "kernelspec": {
   "display_name": "Python 3",
   "language": "python",
   "name": "python3"
  },
  "language_info": {
   "codemirror_mode": {
    "name": "ipython",
    "version": 3
   },
   "file_extension": ".py",
   "mimetype": "text/x-python",
   "name": "python",
   "nbconvert_exporter": "python",
   "pygments_lexer": "ipython3",
   "version": "3.6.3"
  }
 },
 "nbformat": 4,
 "nbformat_minor": 2
}
