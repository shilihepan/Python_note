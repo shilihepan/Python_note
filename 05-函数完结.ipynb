{
 "cells": [
  {
   "cell_type": "markdown",
   "metadata": {},
   "source": [
    "# 四类参数\n",
    "- 普通参数\n",
    "- 默认参数\n",
    "- 关键字参数\n",
    "- 收集参数\n",
    "\n",
    "## 关键字参数\n",
    "- 语法\n",
    "\n",
    "        def func(p1=v1,p2=v2...):\n",
    "            func_body\n",
    "        调用函数：\n",
    "        func(p1=value1,p2=v2...):\n",
    "- 比较麻烦，但也有好处：\n",
    "    - 不容易混淆，一般实参和形参只是按照位置意义对应即可，容易出错\n",
    "    - 使用关键字参数，可以不考虑参数的位置"
   ]
  },
  {
   "cell_type": "code",
   "execution_count": 2,
   "metadata": {},
   "outputs": [
    {
     "name": "stdout",
     "output_type": "stream",
     "text": [
      "I am a student\n",
      "我叫18，我今年dzh岁了，我住wojia\n"
     ]
    }
   ],
   "source": [
    "# 关键字参数案例\n",
    "def stu(name,age,addr):\n",
    "    print(\"I am a student\")\n",
    "    print(\"我叫{0}，我今年{1}岁了，我住{2}\".format(name,age,addr))\n",
    "    \n",
    "n = \"dzh\"\n",
    "a =18\n",
    "addr =\"wojia\"\n",
    "\n",
    "stu(a,n,addr)"
   ]
  },
  {
   "cell_type": "code",
   "execution_count": 4,
   "metadata": {},
   "outputs": [
    {
     "name": "stdout",
     "output_type": "stream",
     "text": [
      "I am a student\n",
      "我叫dzh，我今年18岁了，我住wojia\n"
     ]
    }
   ],
   "source": [
    "def stu_key(name=\"No name\",age=0,addr=\"No addr\"):\n",
    "    print(\"I am a student\")\n",
    "    print(\"我叫{0}，我今年{1}岁了，我住{2}\".format(name,age,addr))\n",
    "    \n",
    "n = \"dzh\"\n",
    "a = 18\n",
    "addr = \"wojia\"\n",
    "stu_key(age=a,name=n,addr=addr)"
   ]
  },
  {
   "cell_type": "markdown",
   "metadata": {},
   "source": [
    "## 收集参数\n",
    "- 把没有位置，不能和定义时的参数位置相对应的参数，放入一个特定的数据机构中\n",
    "- 语法\n",
    "\n",
    "        def func(*args):\n",
    "            func_body\n",
    "            按照list使用方式访问args得到传入的参数\n",
    "            \n",
    "        调用：\n",
    "        func(p1,p2,p3)\n",
    "- 参数名args不是必须这么写，但是，我们推荐直接用args，约定俗成\n",
    "- 参数名args前需要*\n",
    "- 收集参数可以喝其他参数共存\n"
   ]
  },
  {
   "cell_type": "code",
   "execution_count": 5,
   "metadata": {},
   "outputs": [
    {
     "name": "stdout",
     "output_type": "stream",
     "text": [
      "Hello 大家好，我自我介绍一下，简单说两句：\n",
      "<class 'tuple'>\n",
      "dzh\n",
      "19\n",
      "dida\n",
      "ilovejingjing\n",
      "single\n",
      "Hello 大家好，我自我介绍一下，简单说两句：\n",
      "<class 'tuple'>\n",
      "luli\n"
     ]
    }
   ],
   "source": [
    "# 收集参数代码\n",
    "# 函数模拟一个学生进行自我介绍，但具体内容不清楚\n",
    "# args把他看做一个list\n",
    "\n",
    "def stu(*args):\n",
    "    print(\"Hello 大家好，我自我介绍一下，简单说两句：\")\n",
    "    print(type(args))\n",
    "    for item in args:\n",
    "        print(item)\n",
    "\n",
    "stu(\"dzh\",19,\"dida\",\"ilovejingjing\",\"single\")\n",
    "\n",
    "stu(\"luli\")"
   ]
  },
  {
   "cell_type": "code",
   "execution_count": 7,
   "metadata": {},
   "outputs": [
    {
     "name": "stdout",
     "output_type": "stream",
     "text": [
      "Hello 大家好，我自我介绍一下，简单说两句：\n",
      "<class 'tuple'>\n"
     ]
    }
   ],
   "source": [
    "# 收集参数案例\n",
    "# 说明收集参数可以不用带任何实参调用，此时收集参数为空tuple\n",
    "\n",
    "stu()"
   ]
  },
  {
   "cell_type": "code",
   "execution_count": 8,
   "metadata": {},
   "outputs": [
    {
     "ename": "TypeError",
     "evalue": "stu() got an unexpected keyword argument 'name'",
     "output_type": "error",
     "traceback": [
      "\u001b[0;31m---------------------------------------------------------------------------\u001b[0m",
      "\u001b[0;31mTypeError\u001b[0m                                 Traceback (most recent call last)",
      "\u001b[0;32m<ipython-input-8-5846daf8306d>\u001b[0m in \u001b[0;36m<module>\u001b[0;34m()\u001b[0m\n\u001b[1;32m      1\u001b[0m \u001b[0;31m# 如果使用关键字参数格式调用，会出现问题\u001b[0m\u001b[0;34m\u001b[0m\u001b[0;34m\u001b[0m\u001b[0m\n\u001b[0;32m----> 2\u001b[0;31m \u001b[0mstu\u001b[0m\u001b[0;34m(\u001b[0m\u001b[0mname\u001b[0m\u001b[0;34m=\u001b[0m\u001b[0;34m'liuli'\u001b[0m\u001b[0;34m)\u001b[0m\u001b[0;34m\u001b[0m\u001b[0m\n\u001b[0m",
      "\u001b[0;31mTypeError\u001b[0m: stu() got an unexpected keyword argument 'name'"
     ]
    }
   ],
   "source": [
    "# 如果使用关键字参数格式调用，会出现问题\n",
    "stu(name='liuli')"
   ]
  },
  {
   "cell_type": "markdown",
   "metadata": {},
   "source": [
    "### 收集参数之关键字收集参数\n",
    "- 把关键字参数按字典格式存入收集参数\n",
    "- 语法:\n",
    "        \n",
    "        def func(**kwargs):\n",
    "            func_body\n",
    "            \n",
    "        # 调用：\n",
    "        func(p1=v1,p2=v2,p3=v3...)\n",
    "- kwargs一般约定俗成\n",
    "- 调用的时候，把多余的关键字参数放入kwargs\n",
    "- 访问kwargs需要按字典的格式访问"
   ]
  },
  {
   "cell_type": "code",
   "execution_count": 14,
   "metadata": {},
   "outputs": [
    {
     "name": "stdout",
     "output_type": "stream",
     "text": [
      "Hello 大家好，我先自我介绍一下：\n",
      "<class 'dict'>\n",
      "name is dzh\n",
      "age is 10\n",
      "addr is dt\n",
      "lover is jingjing\n",
      "job is teacher\n",
      "********************\n",
      "Hello 大家好，我先自我介绍一下：\n",
      "<class 'dict'>\n",
      "name is liuli\n"
     ]
    }
   ],
   "source": [
    "# 案例\n",
    "# 自我介绍\n",
    "# 调用的时候需要使用关键字参数调用\n",
    "\n",
    "def stu(**kwargs):\n",
    "    print(\"Hello 大家好，我先自我介绍一下：\")\n",
    "    print(type(kwargs))\n",
    "    # 对于字典的访问，python2和python3有区别\n",
    "    for k,v in kwargs.items():\n",
    "        print(k,\"is\",v)\n",
    "\n",
    "stu(name=\"dzh\",age=10,addr=\"dt\",lover=\"jingjing\",job=\"teacher\")\n",
    "\n",
    "print(\"*\" * 20)    # ※乘以20\n",
    "\n",
    "stu(name=\"liuli\")"
   ]
  },
  {
   "cell_type": "code",
   "execution_count": 15,
   "metadata": {},
   "outputs": [
    {
     "name": "stdout",
     "output_type": "stream",
     "text": [
      "Hello 大家好，我先自我介绍一下：\n",
      "<class 'dict'>\n"
     ]
    }
   ],
   "source": [
    "# 收集参数案例\n",
    "# 说明收集参数可以不用带任何实参调用，此时收集参数为空tuple\n",
    "\n",
    "stu()"
   ]
  },
  {
   "cell_type": "markdown",
   "metadata": {},
   "source": [
    "### 收集参数混合调用的顺序问题\n",
    "- 收集参数，关键字参数，普通参数可以混合使用\n",
    "- 使用规则就是，普通参数和关键字参数优先\n",
    "- 定义的时候一般找普通参数，关键字参数，收集参数args，kwargs"
   ]
  },
  {
   "cell_type": "code",
   "execution_count": 28,
   "metadata": {},
   "outputs": [
    {
     "name": "stdout",
     "output_type": "stream",
     "text": [
      "Hello 大家好\n",
      "我叫dzh，我今年19。\n",
      "我没有爱好\n",
      "******************************\n",
      "########################################\n",
      "Hello 大家好\n",
      "我叫dzh，我今年19。\n",
      "我的爱好是basketball\n",
      "******************************\n",
      "我爱吹牛逼\n",
      "########################################\n",
      "weight is 70kg\n"
     ]
    }
   ],
   "source": [
    "# 收集参数混合调用案例\n",
    "# stu模拟一个学生的自我介绍\n",
    "def stu(name,age,*args,hobby=\"no\",**kwargs):\n",
    "    print(\"Hello 大家好\")\n",
    "    print(\"我叫{0}，我今年{1}。\".format(name,age))\n",
    "    if hobby == \"no\":\n",
    "        print(\"我没有爱好\")\n",
    "    else:\n",
    "        print(\"我的爱好是{0}\".format(hobby))   \n",
    "    print(\"*\" * 30)\n",
    "    \n",
    "    for i in args:\n",
    "        print(i)      \n",
    "    print(\"#\" * 40)\n",
    "    \n",
    "    for k,v in kwargs.items():\n",
    "        print(k,\"is\",v)\n",
    "\n",
    "# 开始调用\n",
    "name = \"dzh\"\n",
    "age = 19\n",
    "\n",
    "\n",
    "\n",
    "\n",
    "stu(name,age)\n",
    "\n",
    "stu(name,age,\"我爱吹牛逼\",hobby=\"basketball\",weight=\"70kg\")\n",
    "\n"
   ]
  },
  {
   "cell_type": "markdown",
   "metadata": {},
   "source": [
    "### 收集参数的解包问题\n",
    "- 把参数放入list中，直接把list中的值放入收集参数中\n",
    "- 语法："
   ]
  },
  {
   "cell_type": "code",
   "execution_count": 35,
   "metadata": {},
   "outputs": [
    {
     "name": "stdout",
     "output_type": "stream",
     "text": [
      "哈哈哈\n",
      "<class 'list'>\n",
      "0\n",
      "['liuying', 12, 22, 'dd']\n"
     ]
    }
   ],
   "source": [
    "# 收集参数的解包问题\n",
    "\n",
    "def stu(*args):\n",
    "    print(\"哈哈哈\")\n",
    "    n = 0\n",
    "    for i in args:\n",
    "        print(type(i))\n",
    "        print(n)\n",
    "        n += 1    # n主要用来调试\n",
    "        print(i)\n",
    "        \n",
    "# stu(\"liuying\",\"dddz\",12,22)\n",
    "li = [\"liuying\",12,22,\"dd\"]\n",
    "stu(li)\n",
    "# 此时，args的表示形式是字典内一个list类型的元素，即args=[\"liuying\",12,22,\"dd\"]\n",
    "# 很显然和我们的初衷相悖\n",
    "\n",
    "# 此时的调用，我们就需要*"
   ]
  },
  {
   "cell_type": "code",
   "execution_count": 36,
   "metadata": {},
   "outputs": [
    {
     "name": "stdout",
     "output_type": "stream",
     "text": [
      "哈哈哈\n",
      "<class 'str'>\n",
      "0\n",
      "liuying\n",
      "<class 'int'>\n",
      "1\n",
      "12\n",
      "<class 'int'>\n",
      "2\n",
      "22\n",
      "<class 'str'>\n",
      "3\n",
      "dd\n"
     ]
    }
   ],
   "source": [
    "def stu(*args):\n",
    "    print(\"哈哈哈\")\n",
    "    n = 0\n",
    "    for i in args:\n",
    "        print(type(i))\n",
    "        print(n)\n",
    "        n += 1    # n主要用来调试\n",
    "        print(i)\n",
    "        \n",
    "# stu(\"liuying\",\"dddz\",12,22)\n",
    "li = [\"liuying\",12,22,\"dd\"]\n",
    "stu(*li)"
   ]
  },
  {
   "cell_type": "markdown",
   "metadata": {},
   "source": [
    "### 同理，dict类型收集参数一样可以解包，但是\n",
    "- 对dict类型进行解包\n",
    "- 需要用两个星号进行解包"
   ]
  },
  {
   "cell_type": "markdown",
   "metadata": {},
   "source": [
    "## 返回值\n",
    "- 函数和过程的区别\n",
    "    - 有无返回值\n",
    "- 需要用return显示返回内容\n",
    "- 如果没有返回，则默认返回None\n",
    "- 推荐写法，无论有无返回值，最后都要以return结束"
   ]
  },
  {
   "cell_type": "code",
   "execution_count": 39,
   "metadata": {},
   "outputs": [
    {
     "name": "stdout",
     "output_type": "stream",
     "text": [
      "有返回值\n",
      "1\n",
      "没有返回值\n",
      "None\n"
     ]
    }
   ],
   "source": [
    "# 返回示例值\n",
    "\n",
    "def func1():\n",
    "    print(\"有返回值\")\n",
    "    return 1\n",
    "\n",
    "def func2():\n",
    "    print(\"没有返回值\")\n",
    "    \n",
    "f1 = func1()\n",
    "print(f1)\n",
    "\n",
    "f2 = func2()\n",
    "print(f2)"
   ]
  },
  {
   "cell_type": "markdown",
   "metadata": {},
   "source": [
    "# 函数文档\n",
    "- 函数的文档的作用是对当前函数提供使用相关的参考信息\n",
    "- 文档的写法：\n",
    "    - 在函数内部开始的第一行使用’‘’    ‘’‘\n",
    "    - 一般具有特定格式\n",
    "    - 参看案例\n",
    "- 文档查看\n",
    "    - 使用help函数，形如help(func)\n",
    "    - 使用__doc__"
   ]
  },
  {
   "cell_type": "code",
   "execution_count": 48,
   "metadata": {
    "collapsed": true
   },
   "outputs": [],
   "source": [
    "# 文档案例\n",
    "\n",
    "def ddd(name,age,*args):\n",
    "    '''\n",
    "    这是文档\n",
    "    ll\n",
    "    '''\n",
    "    print(\"This is hanshu str\")"
   ]
  },
  {
   "cell_type": "code",
   "execution_count": 49,
   "metadata": {},
   "outputs": [
    {
     "name": "stdout",
     "output_type": "stream",
     "text": [
      "Help on function ddd in module __main__:\n",
      "\n",
      "ddd(name, age, *args)\n",
      "    这是文档\n",
      "    ll\n",
      "\n"
     ]
    },
    {
     "data": {
      "text/plain": [
       "'\\n    这是文档\\n    ll\\n    '"
      ]
     },
     "execution_count": 49,
     "metadata": {},
     "output_type": "execute_result"
    }
   ],
   "source": [
    "# 查看函数文档\n",
    "help(ddd)\n",
    "ddd.__doc__"
   ]
  },
  {
   "cell_type": "code",
   "execution_count": 50,
   "metadata": {},
   "outputs": [
    {
     "name": "stdout",
     "output_type": "stream",
     "text": [
      "Help on function stu in module __main__:\n",
      "\n",
      "stu(name, age)\n",
      "    这是文档的文字内容\n",
      "    :param name: 表示学生的姓名\n",
      "    :param age: 表示学生的年龄\n",
      "    :return: 此函数没有返回值\n",
      "\n",
      "None\n",
      "********************\n",
      "  \n",
      "    这是文档的文字内容\n",
      "    :param name: 表示学生的姓名\n",
      "    :param age: 表示学生的年龄\n",
      "    :return: 此函数没有返回值    \n",
      "    \n"
     ]
    }
   ],
   "source": [
    "def stu(name,age):\n",
    "    '''  \n",
    "    这是文档的文字内容\n",
    "    :param name: 表示学生的姓名\n",
    "    :param age: 表示学生的年龄\n",
    "    :return: 此函数没有返回值    \n",
    "    '''\n",
    "    pass\n",
    "\n",
    "print(help(stu))\n",
    "\n",
    "print(\"*\" * 20)\n",
    "\n",
    "print(stu.__doc__) "
   ]
  }
 ],
 "metadata": {
  "kernelspec": {
   "display_name": "Python 3",
   "language": "python",
   "name": "python3"
  },
  "language_info": {
   "codemirror_mode": {
    "name": "ipython",
    "version": 3
   },
   "file_extension": ".py",
   "mimetype": "text/x-python",
   "name": "python",
   "nbconvert_exporter": "python",
   "pygments_lexer": "ipython3",
   "version": "3.6.3"
  }
 },
 "nbformat": 4,
 "nbformat_minor": 2
}
