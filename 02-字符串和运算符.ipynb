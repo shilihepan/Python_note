{
 "cells": [
  {
   "cell_type": "markdown",
   "metadata": {},
   "source": [
    "# 字符串\n",
    "  - 转义字符\n",
    "  - 格式化\n",
    "  - 内建函数（后延）\n",
    "  \n",
    "## 转义字符\n",
    "  - 用一个特殊的方法表示出一系列不方便写出的内容，比如回车，换行，退格\n",
    "  - 借助反斜杠字符，一旦字符串中出现反斜杠，则反斜杠后面的字符发生转义\n",
    "  - 在字符串中，一旦出现反斜杠，就有转义\n",
    "    - windows: \\n\n",
    "    - Linux: \\r\\n\n",
    "    "
   ]
  },
  {
   "cell_type": "code",
   "execution_count": 2,
   "metadata": {},
   "outputs": [
    {
     "name": "stdout",
     "output_type": "stream",
     "text": [
      "i love python\n"
     ]
    }
   ],
   "source": [
    "s = 'i love python'\n",
    "print(s)"
   ]
  },
  {
   "cell_type": "code",
   "execution_count": 9,
   "metadata": {},
   "outputs": [
    {
     "name": "stdout",
     "output_type": "stream",
     "text": [
      "Let's go\n",
      "Let's go\n",
      "c:\\user\n",
      "I love \n",
      " python\n"
     ]
    }
   ],
   "source": [
    "# 如果想表示出Let‘s go 来\n",
    "# 1.可以使用嵌套引号\n",
    "# 2.使用转义字符\n",
    "s = \"Let's go\"\n",
    "print(s)\n",
    "\n",
    "ss ='Let\\'s go'\n",
    "print(ss)\n",
    "\n",
    "sss = \"c:\\\\user\"   #  双反斜杠代表单反斜杠\n",
    "print(sss)\n",
    "\n",
    "#回车换行符  \\r\\n\n",
    "s1 = 'I love \\n python'\n",
    "print(s1)"
   ]
  },
  {
   "cell_type": "markdown",
   "metadata": {},
   "source": [
    "## 字符串的格式化\n",
    "  - 把字符串按照一定的格式打印或者填充\n",
    "  - 格式化两种方法\n",
    "    - 利用百分号 %\n",
    "    - 利用format函数\n",
    "  "
   ]
  },
  {
   "cell_type": "code",
   "execution_count": 10,
   "metadata": {
    "collapsed": true
   },
   "outputs": [],
   "source": [
    "s = \"xxx 您好，我是中国地质大学（武汉）南望山矿工篮球队队长，欢迎加入我们。\""
   ]
  },
  {
   "cell_type": "markdown",
   "metadata": {},
   "source": [
    "### 利用百分号格式化\n",
    "- 在字符串中，利用%表示一个特殊的含义，表示对字符串进行格式化\n",
    "- %d: 此处赢放入一个整数\n",
    "- %s: 表示此处应该放入一个字符串\n"
   ]
  },
  {
   "cell_type": "code",
   "execution_count": 15,
   "metadata": {},
   "outputs": [
    {
     "name": "stdout",
     "output_type": "stream",
     "text": [
      "I love 董智慧\n"
     ]
    }
   ],
   "source": [
    "s = \"I love %s\" %'董智慧'   #  用董智慧把s代替了\n",
    "print(s)\n"
   ]
  },
  {
   "cell_type": "code",
   "execution_count": 16,
   "metadata": {},
   "outputs": [
    {
     "name": "stdout",
     "output_type": "stream",
     "text": [
      "I am 24 years old.\n"
     ]
    }
   ],
   "source": [
    "s = \"I am %d years old.\" %24\n",
    "print(s)"
   ]
  },
  {
   "cell_type": "code",
   "execution_count": 24,
   "metadata": {},
   "outputs": [
    {
     "name": "stdout",
     "output_type": "stream",
     "text": [
      "I am %s,i am %d years old.\n",
      "I am dzh,i am 19 years old.\n",
      "I am dzh,i am 12 years old.\n"
     ]
    }
   ],
   "source": [
    "s = \"I am %s,i am %d years old.\" \n",
    "print(s)\n",
    "print(s%('dzh',19))\n",
    "ss = \"I am %s,i am %d years old.\" %('dzh',12)\n",
    "print(ss)"
   ]
  },
  {
   "cell_type": "markdown",
   "metadata": {},
   "source": [
    "### format函数格式化字符串\n",
    "- 直接使用format函数进行格式化\n",
    "- 在使用上，以{}和： 代替%号，后面用format带参数完成"
   ]
  },
  {
   "cell_type": "code",
   "execution_count": 27,
   "metadata": {},
   "outputs": [
    {
     "name": "stdout",
     "output_type": "stream",
     "text": [
      "I love dzh\n",
      "I am 33 years old ,i love dzh and i am 33 years old.\n"
     ]
    }
   ],
   "source": [
    "s = 'I love {}'.format('dzh')\n",
    "print(s)\n",
    "\n",
    "s1 = 'I am {1} years old ,i love {0} and i am {1} years old.'.format('dzh',33)\n",
    "print(s1)"
   ]
  },
  {
   "cell_type": "markdown",
   "metadata": {},
   "source": [
    "## None\n",
    "- 表示什么都没有\n",
    "- 如果函数没有返回值，可以返回 None\n",
    "- 用来占位置\n",
    "- 用来接触变量绑定"
   ]
  },
  {
   "cell_type": "markdown",
   "metadata": {},
   "source": [
    "# 表达式\n",
    "- 由一个或者几个数字或者变量和运算符组合成的一行代码\n",
    "- 通常会返回一个结果\n",
    "# 运算符\n",
    "- 由一个以上的值经过变化得到新值的过程叫做运算\n",
    "- 运算符分类\n",
    "  - 算数运算符\n",
    "  - 比较或者关系运算符\n",
    "  - 赋值运算符\n",
    "  - 逻辑运算符\n",
    "  - 位运算\n",
    "  - 成员运算符\n",
    "  - 身份运算符\n",
    "  "
   ]
  },
  {
   "cell_type": "markdown",
   "metadata": {},
   "source": [
    "## 算数运算符\n",
    "- 进行算数运算的符号\n",
    "- python 没有自增自减"
   ]
  },
  {
   "cell_type": "code",
   "execution_count": 29,
   "metadata": {},
   "outputs": [
    {
     "name": "stdout",
     "output_type": "stream",
     "text": [
      "1\n"
     ]
    }
   ],
   "source": [
    "# + - * / 加减乘除\n",
    "# %取余\n",
    "a = 9%2\n",
    "print(a)\n",
    "\n",
    "# //取整\n",
    "a = 9//4\n",
    "print(a) \n",
    "\n",
    "# ** 幂运算\n"
   ]
  },
  {
   "cell_type": "markdown",
   "metadata": {},
   "source": [
    "## 比较运算符\n",
    "- 对两个变量进行比较\n",
    "- 比较的结果是布尔值，即True或False"
   ]
  },
  {
   "cell_type": "code",
   "execution_count": 31,
   "metadata": {},
   "outputs": [
    {
     "name": "stdout",
     "output_type": "stream",
     "text": [
      "False\n",
      "True\n"
     ]
    }
   ],
   "source": [
    "# == !=  >  <  >=   <=\n",
    "a = 3 ** 4\n",
    "b = a == 80   # 先执行比较，后执行赋值\n",
    "print(b)\n",
    "\n",
    "print(9 != 8)"
   ]
  },
  {
   "cell_type": "markdown",
   "metadata": {},
   "source": [
    "## 赋值运算符\n"
   ]
  },
  {
   "cell_type": "code",
   "execution_count": 33,
   "metadata": {},
   "outputs": [
    {
     "name": "stdout",
     "output_type": "stream",
     "text": [
      "4\n"
     ]
    }
   ],
   "source": [
    "# =  += -= *= /= //= %=\n",
    "a = 1\n",
    "a += 3\n",
    "print(a)\n"
   ]
  },
  {
   "cell_type": "markdown",
   "metadata": {},
   "source": [
    "# 逻辑运算符\n",
    "- 对布尔值进行计算的符号\n",
    "- and or not \n",
    "- python 中逻辑运算符没有异或运算\n",
    "- 运算规则：\n",
    "  - and视为×，or视为+\n",
    "  - True视为1，False视为0\n",
    "  - 逻辑运算就可以转换为整数运算\n",
    "  - 最后的结果如果是0则为False，否则为True\n",
    "- 逻辑运算的短路问题\n",
    "  - 逻辑运算式，按照运算顺序计算，一旦能够确定整个式子未来的值，就不再进行计算，直接返回"
   ]
  },
  {
   "cell_type": "code",
   "execution_count": 35,
   "metadata": {},
   "outputs": [
    {
     "name": "stdout",
     "output_type": "stream",
     "text": [
      "True\n",
      "True\n"
     ]
    }
   ],
   "source": [
    "# 逻辑运算符案例\n",
    "a = True \n",
    "b = False\n",
    "c = True\n",
    "\n",
    "# 以下式子等价于 d = 1*0+1\n",
    "d = a and b or c\n",
    "print(d)\n",
    "\n",
    "d = a or b and a\n",
    "print(d)"
   ]
  },
  {
   "cell_type": "code",
   "execution_count": 41,
   "metadata": {},
   "outputs": [
    {
     "name": "stdout",
     "output_type": "stream",
     "text": [
      "True\n"
     ]
    }
   ],
   "source": [
    "# 逻辑运算短路案例\n",
    "\n",
    "# 下面的逻辑表达式，a的值一定是True，则运行到or的时候，整个表达式不在向下计算\n",
    "a = True or xxx\n",
    "print(a)\n",
    "\n",
    "# 下面的表达式，如果xxx中包含赋值表达式，则结果很难预测\n"
   ]
  },
  {
   "cell_type": "markdown",
   "metadata": {},
   "source": [
    "# 成员运算符号\n",
    "- 用来检测某一个变量是否是另一个变量的成员\n",
    "-in  not in\n"
   ]
  },
  {
   "cell_type": "markdown",
   "metadata": {},
   "source": [
    "# 身份运算\n",
    "- is:用来检测两个变量是否是同一个变量\n",
    "  - 语法是  var1 is var2\n",
    "- is not:\n",
    "  "
   ]
  },
  {
   "cell_type": "code",
   "execution_count": 44,
   "metadata": {},
   "outputs": [
    {
     "name": "stdout",
     "output_type": "stream",
     "text": [
      "True\n",
      "False\n"
     ]
    }
   ],
   "source": [
    "a = 9 \n",
    "b = 9\n",
    "print(a is b)\n",
    "\n",
    "a = 'I love python'\n",
    "b = 'I love python'\n",
    "print(a is b)"
   ]
  },
  {
   "cell_type": "markdown",
   "metadata": {},
   "source": [
    "## 运算符的优先级问题\n",
    "- 括号具有最高优先级\n",
    "  - 以下省略10000字\n"
   ]
  }
 ],
 "metadata": {
  "kernelspec": {
   "display_name": "Python 3",
   "language": "python",
   "name": "python3"
  },
  "language_info": {
   "codemirror_mode": {
    "name": "ipython",
    "version": 3
   },
   "file_extension": ".py",
   "mimetype": "text/x-python",
   "name": "python",
   "nbconvert_exporter": "python",
   "pygments_lexer": "ipython3",
   "version": "3.6.3"
  }
 },
 "nbformat": 4,
 "nbformat_minor": 2
}
