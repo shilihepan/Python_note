{
 "cells": [
  {
   "cell_type": "markdown",
   "metadata": {},
   "source": [
    "# while循环\n",
    " - 一个循环语句\n",
    " - 表示当某条件成立的时候，就循环\n",
    " - 不知道具体循环次数，但能确定循环的成立条件的时候用while循环\n",
    " - while语法:\n",
    " \n",
    "         while 条件表达式：\n",
    "             语句块\n",
    "             \n",
    "         # 另外一种表达方式：\n",
    "         while 条件表达式：\n",
    "             语句块1\n",
    "         else:\n",
    "             语句块2"
   ]
  },
  {
   "cell_type": "code",
   "execution_count": 4,
   "metadata": {},
   "outputs": [
    {
     "name": "stdout",
     "output_type": "stream",
     "text": [
      "第1年拿了106700.0元\n",
      "第2年拿了113848.9元\n",
      "第3年拿了121476.77629999998元\n",
      "第4年拿了129615.72031209998元\n",
      "第5年拿了138299.97357301068元\n",
      "第6年拿了147566.07180240238元\n",
      "第7年拿了157452.99861316333元\n",
      "第8年拿了168002.34952024528元\n",
      "第9年拿了179258.5069381017元\n",
      "第10年拿了191268.8269029545元\n",
      "第11年拿了204083.83830545243元\n"
     ]
    }
   ],
   "source": [
    "# 如果说年利率是6.7%，本利是每年翻滚，则多少年后本钱会翻倍？\n",
    "\n",
    "money = 100000\n",
    "year = 0\n",
    "while money < 200000:\n",
    "    money = money * (1+0.067)\n",
    "    year += 1\n",
    "    print(\"第{0}年拿了{1}元\".format(year,money))\n",
    "    "
   ]
  },
  {
   "cell_type": "code",
   "execution_count": 5,
   "metadata": {},
   "outputs": [
    {
     "name": "stdout",
     "output_type": "stream",
     "text": [
      "第1年拿了106700.0元\n",
      "第2年拿了113848.9元\n",
      "第3年拿了121476.77629999998元\n",
      "第4年拿了129615.72031209998元\n",
      "第5年拿了138299.97357301068元\n",
      "第6年拿了147566.07180240238元\n",
      "第7年拿了157452.99861316333元\n",
      "第8年拿了168002.34952024528元\n",
      "第9年拿了179258.5069381017元\n",
      "第10年拿了191268.8269029545元\n",
      "第11年拿了204083.83830545243元\n",
      "大爷的，终于翻倍了\n",
      "当年10万可以盖个房子，现在20万只能买个厨房\n"
     ]
    }
   ],
   "source": [
    "# 如果说年利率是6.7%，本利是每年翻滚，则多少年后本钱会翻倍？\n",
    "# 如果拿到的钱翻倍，则用print庆祝一波\n",
    "\n",
    "money = 100000\n",
    "year = 0\n",
    "while money < 200000:\n",
    "    money = money * (1+0.067)\n",
    "    year += 1\n",
    "    print(\"第{0}年拿了{1}元\".format(year,money))\n",
    "else:\n",
    "    print(\"大爷的，终于翻倍了\")\n",
    "    print(\"当年10万可以盖个房子，现在20万只能买个厨房\")"
   ]
  },
  {
   "cell_type": "markdown",
   "metadata": {},
   "source": [
    "# 函数\n",
    " - 代码的一种组织形式\n",
    " - 一个函数一般完成一项特殊的功能\n",
    " - 函数使用\n",
    "     - 函数需要先定义\n",
    "     - 使用函数，俗称调用\n",
    " "
   ]
  },
  {
   "cell_type": "code",
   "execution_count": 8,
   "metadata": {},
   "outputs": [
    {
     "name": "stdout",
     "output_type": "stream",
     "text": [
      "我是一个函数\n",
      "我要完成一定的功能\n",
      "我结束了\n"
     ]
    }
   ],
   "source": [
    "# 定义一个函数\n",
    "# 只是定义的话不会执行\n",
    "# 函数名：约定俗成，大驼峰只给类\n",
    "# 函数内所有代码缩进\n",
    "def func():\n",
    "    print(\"我是一个函数\")\n",
    "    print(\"我要完成一定的功能\")\n",
    "    print(\"我结束了\")\n",
    "func()"
   ]
  },
  {
   "cell_type": "markdown",
   "metadata": {},
   "source": [
    "### 函数的参数和返回值\n",
    " - 参数：负责给函数传递一些必要的数据或信息\n",
    "     - 形参（形式参数）：在函数定义的时候用到的参数没有具体值，只是一个占位符号，成为形参\n",
    "     - 实参（实际参数）：在调用函数的时候输入的值\n",
    " - 返回值：函数的执行结果\n",
    "     - 使用return关键字\n",
    "     - 如果没有return，默认返回一个None\n",
    "     - 执行return后函数结束"
   ]
  },
  {
   "cell_type": "code",
   "execution_count": 6,
   "metadata": {},
   "outputs": [
    {
     "name": "stdout",
     "output_type": "stream",
     "text": [
      "dzh,你肿么了\n"
     ]
    }
   ],
   "source": [
    "# 参数的定义和使用\n",
    "# 参数person只是一个符号，代表的是调用的时候的某一个数据\n",
    "\n",
    "def hello(person):\n",
    "    return\"{0},你肿么了\".format(person)\n",
    "    return\"Sir,你不理额额就走了\"    #  说明执行完return后，函数就停止了，下面的语句不执行\n",
    "    pirnt(\"no\")\n",
    "p = 'dzh'\n",
    "ddd = hello(p)\n",
    "print(ddd)"
   ]
  },
  {
   "cell_type": "code",
   "execution_count": 7,
   "metadata": {},
   "outputs": [
    {
     "name": "stdout",
     "output_type": "stream",
     "text": [
      "Help on built-in function print in module builtins:\n",
      "\n",
      "print(...)\n",
      "    print(value, ..., sep=' ', end='\\n', file=sys.stdout, flush=False)\n",
      "    \n",
      "    Prints the values to a stream, or to sys.stdout by default.\n",
      "    Optional keyword arguments:\n",
      "    file:  a file-like object (stream); defaults to the current sys.stdout.\n",
      "    sep:   string inserted between values, default a space.\n",
      "    end:   string appended after the last value, default a newline.\n",
      "    flush: whether to forcibly flush the stream.\n",
      "\n"
     ]
    }
   ],
   "source": [
    "# 查找函数帮助文档\n",
    "# 1.用help函数\n",
    "help(print)"
   ]
  },
  {
   "cell_type": "code",
   "execution_count": 32,
   "metadata": {
    "scrolled": false
   },
   "outputs": [
    {
     "name": "stdout",
     "output_type": "stream",
     "text": [
      "1 \n",
      "\n",
      "\n",
      "\n",
      "\n",
      "\n",
      "\n",
      "\n",
      "2 4 \n",
      "\n",
      "\n",
      "\n",
      "\n",
      "\n",
      "\n",
      "3 6 9 \n",
      "\n",
      "\n",
      "\n",
      "\n",
      "\n",
      "4 8 12 16 \n",
      "\n",
      "\n",
      "\n",
      "\n",
      "5 10 15 20 25 \n",
      "\n",
      "\n",
      "\n",
      "6 12 18 24 30 36 \n",
      "\n",
      "\n",
      "7 14 21 28 35 42 49 \n",
      "\n",
      "8 16 24 32 40 48 56 64 \n",
      "9 18 27 36 45 54 63 72 81 1 \n",
      "2 4 \n",
      "3 6 9 \n",
      "4 8 12 16 \n",
      "5 10 15 20 25 \n",
      "6 12 18 24 30 36 \n",
      "7 14 21 28 35 42 49 \n",
      "8 16 24 32 40 48 56 64 \n",
      "9 18 27 36 45 54 63 72 81 \n",
      "1 \n",
      "2 4 \n",
      "3 6 9 \n",
      "4 8 12 16 \n",
      "5 10 15 20 25 \n",
      "6 12 18 24 30 36 \n",
      "7 14 21 28 35 42 49 \n",
      "8 16 24 32 40 48 56 64 \n",
      "9 18 27 36 45 54 63 72 81 \n"
     ]
    }
   ],
   "source": [
    "# 九九乘法表\n",
    "# 自己写的\n",
    "for i in range(1,10):\n",
    "    for j in range(1,10):\n",
    "        if j <= i:\n",
    "            ji = i*j\n",
    "            print(ji,end= \" \")\n",
    "        else:\n",
    "            print(\"\")\n",
    "            \n",
    "# 刘大拿写的version1.0\n",
    "for row in range(1,10):\n",
    "    for col in range(1,row+1):\n",
    "        print(row*col,end=\" \")\n",
    "        # print函数默认任务打印完毕后换行\n",
    "    print(\"\")\n",
    "    \n",
    "# version2.0\n",
    "def printline(row):\n",
    "    for col in range(1,row+1):\n",
    "        print(row*col,end=\" \")\n",
    "        # print函数默认任务打印完毕后换行\n",
    "    print(\"\")\n",
    "for row in range(1,10):\n",
    "    printline(row)"
   ]
  },
  {
   "cell_type": "markdown",
   "metadata": {},
   "source": [
    "## 参数详解\n",
    " - [参考资料]（http://www.cnblogs.com/bingabcd/p/6671368.heml）\n",
    " - python参考资料： headfirst python -> 零基础入门学习python（小甲鱼）,本讲义参考了《流畅的python》-->习题-->后期可以考虑腾讯免费公开课\n",
    " - 参数分类\n",
    "    - 普通参数\n",
    "    - 默认参数\n",
    "    - 关键字参数\n",
    "    - 收集参数\n",
    "    \n",
    " - 普通参数\n",
    "     - 参见上例\n",
    "     - 定义的时候直接定义变量名\n",
    "     - 调用的时候把变量或者值放入指定位置\n",
    "     \n",
    "     \n",
    "             def 函数名(参数1，参数2，...):\n",
    "                 函数体\n",
    "             # 调用\n",
    "             函数名（value1，value2，...）\n",
    "             \n",
    "             # 调用的时候，具体参考的是位置，按位置赋值\n",
    " - 默认参数\n",
    "     - 形参带有默认值\n",
    "     - 调用的时候，如果没有对相应的形参赋值，则使用默认值\n",
    "             \n",
    "             def func_name(p1=v1,p2=v2......):\n",
    "                 func_block\n",
    "             # 调用1\n",
    "             func_name()\n",
    "             \n",
    "             # 调用2\n",
    "             value1 = 100\n",
    "             value2 = 200\n",
    "             func_name(value1,value2)"
   ]
  },
  {
   "cell_type": "code",
   "execution_count": 19,
   "metadata": {},
   "outputs": [],
   "source": [
    "# 默认参数示例\n",
    "# 报名函数，需要知道学生性别\n",
    "#学习python的学生基本都是男生，所以，报名的时候如果没有特别指定，我们默认是男生。\n",
    "def reg(name,age,gender=\"male\"):\n",
    "    if gender == \"male\":\n",
    "        print(\"{0}is{1},and he is a good student\".format(name,age))\n",
    "    else:\n",
    "        print(\"{0}is{1},and she is a godd student\".format(name,age))\n",
    "        "
   ]
  },
  {
   "cell_type": "code",
   "execution_count": 22,
   "metadata": {},
   "outputs": [
    {
     "name": "stdout",
     "output_type": "stream",
     "text": [
      "dalaois21,and he is a good student\n",
      "nvzhuangdalaois22,and she is a godd student\n"
     ]
    }
   ],
   "source": [
    "# 调用默认参数函数案例\n",
    "\n",
    "reg(\"dalao\",21)\n",
    "\n",
    "reg(\"nvzhuangdalao\",22,\"female\")"
   ]
  }
 ],
 "metadata": {
  "kernelspec": {
   "display_name": "Python 3",
   "language": "python",
   "name": "python3"
  },
  "language_info": {
   "codemirror_mode": {
    "name": "ipython",
    "version": 3
   },
   "file_extension": ".py",
   "mimetype": "text/x-python",
   "name": "python",
   "nbconvert_exporter": "python",
   "pygments_lexer": "ipython3",
   "version": "3.6.3"
  }
 },
 "nbformat": 4,
 "nbformat_minor": 2
}
