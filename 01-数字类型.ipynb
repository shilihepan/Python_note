{
 "cells": [
  {
   "cell_type": "markdown",
   "metadata": {},
   "source": [
    "# 数字类型\n",
    "- 数字类型没有大小限制\n",
    "\n",
    "整数\n",
    "- 整数分进制\n",
    "     - 二进制\n",
    "         - 计算机常用\n",
    "         - 是计算机唯一能直接理解的数字\n",
    "         - 表示为0b开头的0,1代码\n",
    "         - 例如0b01101，0b1001\n",
    "     - 八进制\n",
    "         - 不常用\n",
    "         -以0o开头，包含0-7的数字\n",
    "     - 十六进制\n",
    "         - 其实是每四位二进制表示一位十六进制数\n",
    "         - 包含0-9，a-f\n",
    "         - 以0x开头\n",
    "     - 十进制\n"
   ]
  },
  {
   "cell_type": "code",
   "execution_count": 6,
   "metadata": {},
   "outputs": [
    {
     "name": "stdout",
     "output_type": "stream",
     "text": [
      "18\n",
      "11\n",
      "18\n"
     ]
    }
   ],
   "source": [
    "age = 18\n",
    "print(18)\n",
    "\n",
    "age = 0b10010\n",
    "print(age)\n",
    "\n",
    "age = 0o11"
   ]
  },
  {
   "cell_type": "markdown",
   "metadata": {},
   "source": [
    "### 浮点数\n",
    " - 小数\n",
    " - 计算机中表示浮点数可以有条件省略\n",
    " - 3.1415\n",
    " - 3.\n",
    " - 0.5\n",
    " - .5\n",
    " - 科学计数法\n",
    "     - 定义跟数学定义一致\n",
    "     - 写法是用e/E后面跟整数\n",
    "     - 176.23  == 1.7623e2\n",
    "     - 0.876 == 8.76e-1\n",
    "     "
   ]
  },
  {
   "cell_type": "code",
   "execution_count": 7,
   "metadata": {},
   "outputs": [
    {
     "name": "stdout",
     "output_type": "stream",
     "text": [
      "156.34\n",
      "0.2\n",
      "0.6\n"
     ]
    }
   ],
   "source": [
    "height = 156.34\n",
    "print(height)\n",
    "\n",
    "shili = 0.2\n",
    "print(shili)\n",
    "\n",
    "shili = .6\n",
    "print(shili)"
   ]
  },
  {
   "cell_type": "markdown",
   "metadata": {},
   "source": [
    "### 复数complex\n",
    "  - 虚部用j/J表示\n",
    "  - 5+3j\n",
    "  - 3j\n",
    "  "
   ]
  },
  {
   "cell_type": "markdown",
   "metadata": {},
   "source": [
    "### 布尔值\n",
    "  - 表示真假的值\n",
    "  - 只有Ture/False\n",
    "  - 布尔值可以跟数字直接操作\n",
    "  "
   ]
  },
  {
   "cell_type": "code",
   "execution_count": 8,
   "metadata": {},
   "outputs": [
    {
     "name": "stdout",
     "output_type": "stream",
     "text": [
      "19\n"
     ]
    }
   ],
   "source": [
    "# 布尔值操作\n",
    "age = 18 + True\n",
    "print(age)"
   ]
  },
  {
   "cell_type": "markdown",
   "metadata": {},
   "source": [
    "## 字符串\n",
    "  - 用来表示一串文字信息\n",
    "  - 表示：\n",
    "     - 单引号\n",
    "     - 双引号\n",
    "     - 三引号（三单引号或三双引号）\n",
    "        - 能扩起多行信息\n",
    "  - 单双引号可以交错使用"
   ]
  },
  {
   "cell_type": "code",
   "execution_count": 12,
   "metadata": {},
   "outputs": [
    {
     "name": "stdout",
     "output_type": "stream",
     "text": [
      "i love python\n",
      "<a style=\"color:red\">哈哈哈</a>\n",
      "\n",
      "i love python\n",
      "我爱看NBA\n",
      "哈哈哈哈\n",
      "\n"
     ]
    }
   ],
   "source": [
    "love = 'i love python'\n",
    "print(love)\n",
    "\n",
    "#单双引号交错使用的例子\n",
    "# <a style=\"color:red\">哈哈哈</a>\n",
    "# 用引号表示上面的字符串\n",
    "html = '<a style=\"color:red\">哈哈哈</a>'\n",
    "print(html)\n",
    "\n",
    "htmls = '''\n",
    "i love python\n",
    "我爱看NBA\n",
    "哈哈哈哈\n",
    "'''\n",
    "print(htmls)"
   ]
  },
  {
   "cell_type": "code",
   "execution_count": null,
   "metadata": {
    "collapsed": true
   },
   "outputs": [],
   "source": []
  }
 ],
 "metadata": {
  "kernelspec": {
   "display_name": "Python 3",
   "language": "python",
   "name": "python3"
  },
  "language_info": {
   "codemirror_mode": {
    "name": "ipython",
    "version": 3
   },
   "file_extension": ".py",
   "mimetype": "text/x-python",
   "name": "python",
   "nbconvert_exporter": "python",
   "pygments_lexer": "ipython3",
   "version": "3.6.3"
  }
 },
 "nbformat": 4,
 "nbformat_minor": 2
}
